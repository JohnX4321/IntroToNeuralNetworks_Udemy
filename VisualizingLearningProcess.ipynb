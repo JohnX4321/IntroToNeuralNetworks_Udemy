{
 "cells": [
  {
   "cell_type": "code",
   "execution_count": null,
   "id": "initial_id",
   "metadata": {
    "collapsed": true
   },
   "outputs": [],
   "source": [
    "import torch\n",
    "import torch.nn as nn\n",
    "import torch.nn.functional as F\n",
    "import matplotlib.pyplot as plt\n",
    "import sklearn.datasets"
   ]
  },
  {
   "metadata": {},
   "cell_type": "code",
   "outputs": [],
   "execution_count": null,
   "source": "x,y = sklearn.datasets.make_moons(200, noise = 0.20)",
   "id": "6b5835a7fac9dcc6"
  },
  {
   "metadata": {},
   "cell_type": "code",
   "outputs": [],
   "execution_count": null,
   "source": [
    "plt.scatter(x[:,0],x[:,1], s = 40, c = y, cmap = plt.cm.Spectral)\n",
    "plt.show()"
   ],
   "id": "59fff8c10f35b133"
  },
  {
   "metadata": {},
   "cell_type": "code",
   "outputs": [],
   "execution_count": null,
   "source": [
    "x = torch.FloatTensor(x)\n",
    "y = torch.LongTensor(y)"
   ],
   "id": "11a1e7d0f3b08099"
  },
  {
   "metadata": {},
   "cell_type": "code",
   "outputs": [],
   "execution_count": null,
   "source": [
    "class FeedForward(torch.nn.Module):\n",
    "    def __init__(self, input_neurons, hidden_neurons, output_neurons):\n",
    "        super(FeedForward,self).__init__()\n",
    "        self.hidden = nn.Linear(input_neurons, hidden_neurons)\n",
    "        self.out = nn.Linear(hidden_neurons,output_neurons)\n",
    "    def forward(self, x):\n",
    "        x = self.hidden(x)\n",
    "        x = F.relu(x)\n",
    "        x = self.out(x)\n",
    "        return x"
   ],
   "id": "6e251b27db3a4b88"
  },
  {
   "metadata": {},
   "cell_type": "code",
   "outputs": [],
   "execution_count": null,
   "source": [
    "network = FeedForward(input_neurons = 2, hidden_neurons = 50, output_neurons = 2)\n",
    "optimizer = torch.optim.SGD(network.parameters(), lr = 0.02)\n",
    "loss_function = torch.nn.CrossEntropyLoss()"
   ],
   "id": "22e82ce360f2f6a3"
  },
  {
   "metadata": {},
   "cell_type": "code",
   "outputs": [],
   "execution_count": null,
   "source": [
    "plt.ion()\n",
    "for epoch in range(10000):\n",
    "    out = network(x)\n",
    "    loss = loss_function(out,y)\n",
    "    optimizer.zero_grad()\n",
    "    loss.backward()\n",
    "    optimizer.step()\n",
    "\n",
    "    if epoch % 1000 == 0:\n",
    "         # show the learning process up until now\n",
    "        max_value, prediction = torch.max(out,1)\n",
    "        predicted_y = prediction.data.numpy()\n",
    "        target_y = y.data.numpy()\n",
    "        plt.scatter(x.data.numpy()[:,0],x.data.numpy()[:,1], s = 40, c = predicted_y, lw = 0)\n",
    "        accuracy = (predicted_y == target_y).sum() / target_y.size\n",
    "        plt.text(3,-1, 'Accuracy = {:.2f}'.format(accuracy), fontdict = {'size':14})\n",
    "        plt.pause(0.1)\n",
    "\n",
    "plt.ioff()\n",
    "plt.show()"
   ],
   "id": "5f0193abd68c5203"
  }
 ],
 "metadata": {
  "kernelspec": {
   "display_name": "Python 3",
   "language": "python",
   "name": "python3"
  },
  "language_info": {
   "codemirror_mode": {
    "name": "ipython",
    "version": 2
   },
   "file_extension": ".py",
   "mimetype": "text/x-python",
   "name": "python",
   "nbconvert_exporter": "python",
   "pygments_lexer": "ipython2",
   "version": "2.7.6"
  }
 },
 "nbformat": 4,
 "nbformat_minor": 5
}
