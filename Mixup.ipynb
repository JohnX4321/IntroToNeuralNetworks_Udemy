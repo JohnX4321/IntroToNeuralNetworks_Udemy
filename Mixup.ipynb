{
 "cells": [
  {
   "cell_type": "code",
   "execution_count": null,
   "id": "initial_id",
   "metadata": {
    "collapsed": true
   },
   "outputs": [],
   "source": [
    "from PIL import Image\n",
    "import os\n",
    "from random import randint\n",
    "import numpy as np\n",
    "import matplotlib.pyplot as plt"
   ]
  },
  {
   "metadata": {},
   "cell_type": "code",
   "outputs": [],
   "execution_count": null,
   "source": [
    "img_folder = 'images/val2014/'\n",
    "imgs = os.listdir(img_folder)\n",
    "batch_x = [Image.open(img_folder + p).resize((224,224)) for p in imgs[10:20]]"
   ],
   "id": "a80592a60aa6e0dc"
  },
  {
   "metadata": {},
   "cell_type": "code",
   "outputs": [],
   "execution_count": null,
   "source": [
    "def normalize_image(x):\n",
    "    x = x / np.max(x)\n",
    "    mean = np.array([0.485, 0.456, 0.406])\n",
    "    std = np.array([0.229, 0.224, 0.225])\n",
    "    return (x - mean) / std"
   ],
   "id": "d24edd9c8226042f"
  },
  {
   "metadata": {},
   "cell_type": "code",
   "outputs": [],
   "execution_count": null,
   "source": [
    "def denormalize_image(x):\n",
    "    mean = np.array([0.485, 0.456, 0.406])\n",
    "    std = np.array([0.229, 0.224, 0.225])\n",
    "    x = std * x + mean\n",
    "    x = np.clip(x, 0, 1)\n",
    "    return x"
   ],
   "id": "d5fe09d9dd703334"
  },
  {
   "metadata": {},
   "cell_type": "code",
   "outputs": [],
   "execution_count": null,
   "source": [
    "lam = 0.7\n",
    "batch_size = len(batch_x)\n",
    "current_image = normalize_image(np.array(batch_x[0]))\n",
    "random_index = randint(0, batch_size - 1)\n",
    "random_image_from_batch = normalize_image(np.array(batch_x[random_index]))"
   ],
   "id": "936afe3c98304f3d"
  },
  {
   "metadata": {},
   "cell_type": "code",
   "outputs": [],
   "execution_count": null,
   "source": [
    "plt.imshow(denormalize_image(current_image))\n",
    "plt.axis(\"off\")"
   ],
   "id": "b62b0a011b4937ac"
  },
  {
   "metadata": {},
   "cell_type": "code",
   "outputs": [],
   "execution_count": null,
   "source": [
    "plt.imshow(denormalize_image(random_image_from_batch))\n",
    "plt.axis(\"off\")"
   ],
   "id": "f686ff57fbfea610"
  },
  {
   "metadata": {},
   "cell_type": "code",
   "outputs": [],
   "execution_count": null,
   "source": [
    "\n",
    "mixed_image = lam * current_image + (1 - lam) * random_image_from_batch"
   ],
   "id": "8cc4b1c0efd9964c"
  },
  {
   "metadata": {},
   "cell_type": "code",
   "outputs": [],
   "execution_count": null,
   "source": [
    "plt.imshow(denormalize_image(mixed_image))\n",
    "plt.axis(\"off\")"
   ],
   "id": "d805ccb41cf66c5c"
  },
  {
   "metadata": {},
   "cell_type": "code",
   "outputs": [],
   "execution_count": null,
   "source": [
    "def mixup_data(x, y, alpha=1.0, use_cuda=True):\n",
    "\n",
    "    if alpha > 0:\n",
    "        lam = np.random.beta(alpha, alpha)\n",
    "    else:\n",
    "        lam = 1\n",
    "\n",
    "    batch_size = x.size(0)\n",
    "    index = torch.randperm(batch_size)\n",
    "    mixed_x = lam * x + (1 - lam) * x[index, :]\n",
    "    y_a, y_b = y, y[index]\n",
    "    return mixed_x, y_a, y_b, lam\n",
    "\n",
    "\n",
    "def forward(model, mixed_x, y_a, y_b, lam):\n",
    "    criterion = nn.CrossEntropyLoss()\n",
    "    pred = model(mixed_x)\n",
    "    loss = lam * criterion(pred, y_a) + (1 - lam) * criterion(pred, y_b)\n",
    "    return loss"
   ],
   "id": "ac2adf1123ff0f34"
  }
 ],
 "metadata": {
  "kernelspec": {
   "display_name": "Python 3",
   "language": "python",
   "name": "python3"
  },
  "language_info": {
   "codemirror_mode": {
    "name": "ipython",
    "version": 2
   },
   "file_extension": ".py",
   "mimetype": "text/x-python",
   "name": "python",
   "nbconvert_exporter": "python",
   "pygments_lexer": "ipython2",
   "version": "2.7.6"
  }
 },
 "nbformat": 4,
 "nbformat_minor": 5
}
