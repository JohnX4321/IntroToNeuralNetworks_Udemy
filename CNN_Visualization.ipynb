{
 "cells": [
  {
   "cell_type": "code",
   "id": "initial_id",
   "metadata": {
    "collapsed": true,
    "jupyter": {
     "is_executing": true
    }
   },
   "source": [
    "import torch\n",
    "import torch.nn as nn\n",
    "from torch.autograd import Variable\n",
    "from torchvision import models,transforms,utils\n",
    "import numpy as np\n",
    "import scipy.misc\n",
    "import matplotlib.pyplot as plt\n",
    "from PIL import Image\n",
    "import json\n",
    "\n",
    "%matplotlib inline"
   ],
   "outputs": [],
   "execution_count": null
  },
  {
   "metadata": {
    "jupyter": {
     "is_executing": true
    }
   },
   "cell_type": "code",
   "source": [
    "transform = transforms.Compose([\n",
    "    transforms.Resize((224,224)),\n",
    "    transforms.ToTensor(),\n",
    "    transforms.Normalize(mean=[0.485, 0.456, 0.406],std=[0.229, 0.224, 0.225])\n",
    "])"
   ],
   "id": "572f3693f8dcf3a9",
   "outputs": [],
   "execution_count": null
  },
  {
   "metadata": {
    "jupyter": {
     "is_executing": true
    }
   },
   "cell_type": "code",
   "source": [
    "image = Image.open(\"dog.png\")\n",
    "plt.imshow(image)"
   ],
   "id": "82ae4c35b4f0188",
   "outputs": [],
   "execution_count": null
  },
  {
   "metadata": {},
   "cell_type": "code",
   "outputs": [],
   "execution_count": null,
   "source": [
    "vgg = models.vgg16(pretrained=True)\n",
    "vgg.classifier[-1]"
   ],
   "id": "b068e32014506c28"
  },
  {
   "metadata": {},
   "cell_type": "code",
   "outputs": [],
   "execution_count": null,
   "source": [
    "CUDA = torch.cuda.is_available()\n",
    "if CUDA:\n",
    "    vgg.cuda()"
   ],
   "id": "347ed2d179955886"
  },
  {
   "metadata": {},
   "cell_type": "code",
   "outputs": [],
   "execution_count": null,
   "source": "image = transform(image)",
   "id": "37999d68d4c63266"
  },
  {
   "metadata": {},
   "cell_type": "code",
   "outputs": [],
   "execution_count": null,
   "source": "print(image.shape)",
   "id": "9c21e340da99fd4f"
  },
  {
   "metadata": {},
   "cell_type": "code",
   "outputs": [],
   "execution_count": null,
   "source": "image = image.unsqueeze(0)",
   "id": "a55efb8e4fb0123c"
  },
  {
   "metadata": {},
   "cell_type": "code",
   "outputs": [],
   "execution_count": null,
   "source": "image=Variable(image)",
   "id": "35440314281df019"
  },
  {
   "metadata": {
    "jupyter": {
     "is_executing": true
    }
   },
   "cell_type": "code",
   "source": [
    "output=vgg(image)\n",
    "#2D -> 1D\n",
    "output=output.squeeze(0)"
   ],
   "id": "d81f6d8710e8feb6",
   "outputs": [],
   "execution_count": null
  },
  {
   "metadata": {},
   "cell_type": "code",
   "outputs": [],
   "execution_count": null,
   "source": [
    "labels = json.load(open('imagenet_class_index.json'))\n",
    "index = output.max(0)\n",
    "index = str(index[1][0].item())\n",
    "label = labels[index][1]\n",
    "module_list = list(vgg.features.modules())\n",
    "print(vgg.features)\n",
    "print(module_list[0])\n",
    "print(module_list[1])\n",
    "print(module_list[2])\n",
    "module_list"
   ],
   "id": "4c0a85dfd5aceef4"
  },
  {
   "metadata": {},
   "cell_type": "code",
   "outputs": [],
   "execution_count": null,
   "source": [
    "outputs = []\n",
    "names = []\n",
    "for layer in module_list[1:]:\n",
    "    image = layer(image)\n",
    "    outputs.append(image)\n",
    "    names.append(str(layer))"
   ],
   "id": "93b86173fa185a67"
  },
  {
   "metadata": {},
   "cell_type": "code",
   "outputs": [],
   "execution_count": null,
   "source": [
    "for feature_map in outputs:\n",
    "    print(feature_map.shape)"
   ],
   "id": "4b4ebef3bdc4b725"
  },
  {
   "metadata": {},
   "cell_type": "code",
   "outputs": [],
   "execution_count": null,
   "source": [
    "processed = []\n",
    "for feature_map in outputs:\n",
    "    feature_map = feature_map.squeeze(0)\n",
    "    #Convert the 3D Tensor to 2D. Sum the same element of every channel\n",
    "    gray_scale = torch.sum(feature_map, 0)\n",
    "    gray_scale = gray_scale/feature_map.shape[0]\n",
    "    processed.append(gray_scale.data.cpu().numpy())"
   ],
   "id": "30e00651a2a46a0c"
  },
  {
   "metadata": {},
   "cell_type": "code",
   "outputs": [],
   "execution_count": null,
   "source": [
    "fig = plt.figure(figsize = (30,50))\n",
    "\n",
    "for i in range(len(processed)):\n",
    "    a = fig.add_subplot(8,4,i+1)\n",
    "    imgplot = plt.imshow(processed[i])\n",
    "    plt.axis('off')\n",
    "    a.set_title(names[i].split('(')[0], fontsize=30)\n",
    "\n",
    "plt.savefig('feature_maps.jpg', bbox_inches='tight')"
   ],
   "id": "33ebe132f42ddfc7"
  },
  {
   "metadata": {},
   "cell_type": "code",
   "outputs": [],
   "execution_count": null,
   "source": "",
   "id": "89541256e59ebc2b"
  }
 ],
 "metadata": {
  "kernelspec": {
   "display_name": "Python 3",
   "language": "python",
   "name": "python3"
  },
  "language_info": {
   "codemirror_mode": {
    "name": "ipython",
    "version": 2
   },
   "file_extension": ".py",
   "mimetype": "text/x-python",
   "name": "python",
   "nbconvert_exporter": "python",
   "pygments_lexer": "ipython2",
   "version": "2.7.6"
  }
 },
 "nbformat": 4,
 "nbformat_minor": 5
}
