{
 "cells": [
  {
   "cell_type": "code",
   "execution_count": null,
   "id": "initial_id",
   "metadata": {
    "collapsed": true
   },
   "outputs": [],
   "source": [
    "import torch\n",
    "import torch.nn as nn\n",
    "import torchvision.transforms as transforms\n",
    "import torch.nn.functional as F\n",
    "from scipy.misc import imread, imresize"
   ]
  },
  {
   "metadata": {},
   "cell_type": "code",
   "outputs": [],
   "execution_count": null,
   "source": [
    "def process_image(image):\n",
    "    img = imread(image)\n",
    "    img = imresize(img, (256, 256))   #256x256x3\n",
    "    img = img.transpose(2, 0, 1)   #channels first\n",
    "    img = img / 255.\n",
    "    img = torch.FloatTensor(img).cuda()\n",
    "    normalize = transforms.Normalize(mean=[0.485, 0.456, 0.406],std=[0.229, 0.224, 0.225])\n",
    "    transform = transforms.Compose([normalize])\n",
    "    img = transform(img)  # (3, 256, 256)\n",
    "    return img"
   ],
   "id": "8cbf937770523f08"
  },
  {
   "metadata": {},
   "cell_type": "code",
   "outputs": [],
   "execution_count": null,
   "source": [
    "# Define model\n",
    "class CNN(nn.Module):\n",
    "    def __init__(self):\n",
    "        super(CNN, self).__init__()\n",
    "        # in_channels = 3, out_channels = 6, filter_size = 5, 0 padding, stride 1\n",
    "        self.conv1 = nn.Conv2d(3, 6, 5)\n",
    "        self.pool = nn.MaxPool2d(2, 2)\n",
    "        self.conv2 = nn.Conv2d(6, 12, 5)\n",
    "        self.fc1 = nn.Linear(12 * 61 * 61, 120)\n",
    "        self.fc2 = nn.Linear(120, 10)\n",
    "\n",
    "    def forward(self, x):\n",
    "        # consider an image of size 256x256\n",
    "        x = F.relu(self.conv1(x))                # output size = [ (256 - 5 + 2(0) ) / 1 ] + 1 --> 252x252\n",
    "        x = self.pool(x)                         # output_size = 252 / 2 --> 126x126\n",
    "        x = F.relu(self.conv2(x))                # output size = [ (126 - 5 + 2(0) ) / 1 ] + 1 --> 122x122\n",
    "        x = self.pool(x)                         # output size = 122/2 --> 61x61\n",
    "        x = x.view(-1, 12 * 61 * 61)             # (1, 44652)\n",
    "        x = F.relu(self.fc1(x))                  # (1, 120)\n",
    "        x = self.fc2(x)                          # (1, 10)\n",
    "        return x"
   ],
   "id": "54a18dda7a129e0f"
  },
  {
   "metadata": {},
   "cell_type": "code",
   "outputs": [],
   "execution_count": null,
   "source": [
    "# Initialize model\n",
    "model = CNN()\n",
    "model = model.cuda()\n",
    "# Initialize optimizer\n",
    "optimizer = torch.optim.SGD(model.parameters(), lr=0.001, momentum=0.9)\n",
    "image = process_image('test.jpg')\n",
    "image = image.unsqueeze(0)      #batch dimension"
   ],
   "id": "a9d1f7db41ad5b33"
  },
  {
   "metadata": {},
   "cell_type": "code",
   "outputs": [],
   "execution_count": null,
   "source": [
    "output = model(image)\n",
    "print(output.shape)"
   ],
   "id": "a65d485576846e4d"
  },
  {
   "metadata": {},
   "cell_type": "code",
   "outputs": [],
   "execution_count": null,
   "source": [
    "# Print model's state_dict\n",
    "print(\"Model's state_dict:\")\n",
    "for param_tensor in model.state_dict():\n",
    "    print(param_tensor, \"\\t\", model.state_dict()[param_tensor].size())"
   ],
   "id": "24b3643b0401f295"
  },
  {
   "metadata": {},
   "cell_type": "code",
   "outputs": [],
   "execution_count": null,
   "source": "torch.save(model.state_dict(), 'model.pth.tar')",
   "id": "35d679cafab8ae69"
  },
  {
   "metadata": {},
   "cell_type": "code",
   "outputs": [],
   "execution_count": null,
   "source": [
    "#model = CNN()\n",
    "model.load_state_dict(torch.load('model.pth.tar'))\n",
    "model.eval()     #set dropout and batch normalization layers to evaluation mode before inference (testing)"
   ],
   "id": "fb5483c937cfb43b"
  },
  {
   "metadata": {},
   "cell_type": "code",
   "outputs": [],
   "execution_count": null,
   "source": "model = CNN().cuda()",
   "id": "15e4fe9f9511b5fe"
  },
  {
   "metadata": {},
   "cell_type": "code",
   "outputs": [],
   "execution_count": null,
   "source": "optimizer = torch.optim.SGD(model.parameters(), lr=0.001, momentum=0.9)",
   "id": "94b5b9a5bf0a894c"
  },
  {
   "metadata": {},
   "cell_type": "code",
   "outputs": [],
   "execution_count": null,
   "source": [
    "checkpoint = {'epoch': 1,\n",
    "            'model_state_dict': model.state_dict(),\n",
    "            'optimizer_state_dict': optimizer.state_dict(),\n",
    "            'loss': 0.2}\n",
    "torch.save(checkpoint, 'model.pth.tar')"
   ],
   "id": "47c773899d51db87"
  },
  {
   "metadata": {},
   "cell_type": "code",
   "outputs": [],
   "execution_count": null,
   "source": "checkpoint = torch.load('model.pth.tar')",
   "id": "605e978914f2b0f"
  },
  {
   "metadata": {},
   "cell_type": "code",
   "outputs": [],
   "execution_count": null,
   "source": [
    "model.load_state_dict(checkpoint['model_state_dict'])\n",
    "optimizer.load_state_dict(checkpoint['optimizer_state_dict'])\n",
    "epoch = checkpoint['epoch']\n",
    "loss = checkpoint['loss']"
   ],
   "id": "8eb9c86fd86cacdf"
  },
  {
   "metadata": {},
   "cell_type": "code",
   "outputs": [],
   "execution_count": null,
   "source": [
    "# If testing\n",
    "model.eval()\n",
    "# If resume training\n",
    "model.train()"
   ],
   "id": "70b37c884abd3f5e"
  }
 ],
 "metadata": {
  "kernelspec": {
   "display_name": "Python 3",
   "language": "python",
   "name": "python3"
  },
  "language_info": {
   "codemirror_mode": {
    "name": "ipython",
    "version": 2
   },
   "file_extension": ".py",
   "mimetype": "text/x-python",
   "name": "python",
   "nbconvert_exporter": "python",
   "pygments_lexer": "ipython2",
   "version": "2.7.6"
  }
 },
 "nbformat": 4,
 "nbformat_minor": 5
}
