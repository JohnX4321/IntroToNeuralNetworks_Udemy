{
 "cells": [
  {
   "cell_type": "code",
   "execution_count": null,
   "id": "initial_id",
   "metadata": {
    "collapsed": true
   },
   "outputs": [],
   "source": [
    "import torch\n",
    "import torch.nn as nn\n",
    "import torchvision\n",
    "from torchvision import models, transforms\n",
    "from PIL import Image\n",
    "import numpy as np\n",
    "import matplotlib.pyplot as plt\n",
    "\n",
    "device = torch.device('cuda' if torch.cuda.is_available() else 'cpu')"
   ]
  },
  {
   "metadata": {},
   "cell_type": "code",
   "outputs": [],
   "execution_count": null,
   "source": [
    "def get_image(path, img_transform, size=(300,300)):\n",
    "    img = Image.open(path)\n",
    "    img = img.resize(size, Image.LANCZOS)\n",
    "    img=img_transform(img).unsqueeze(0)\n",
    "    return img.to(device)\n",
    "\n",
    "def get_gram(m):\n",
    "    _,c,h,w = m.size()\n",
    "    m=m.view(c,h*w)\n",
    "    m=torch.mm(m,m.t())\n",
    "    return m\n",
    "\n",
    "def denormalize_img(inp):\n",
    "    inp=inp.numpy().transpose((1,2,0))\n",
    "    mean=np.array([0.485, 0.456, 0.406])\n",
    "    std=np.array([0.229, 0.224, 0.225])\n",
    "    inp=std*inp+mean\n",
    "    inp=np.clip(inp,0,1)\n",
    "    return inp"
   ],
   "id": "afa68b2b11228365"
  },
  {
   "metadata": {},
   "cell_type": "code",
   "outputs": [],
   "execution_count": null,
   "source": [
    "class FeatureExtractor(nn.Module):\n",
    "    def __init__(self):\n",
    "        super(FeatureExtractor,self).__init__()\n",
    "        self.selected_layers=[3,8,15,22]\n",
    "        self.vgg=models.vgg16(pretrained=True).features\n",
    "\n",
    "    def forward(self,x):\n",
    "        layer_features=[]\n",
    "        for ln,l in self.vgg._modules.items():\n",
    "            x=l(x)\n",
    "            if int(ln) in self.selected_layers:\n",
    "                layer_features.append(x)\n",
    "        return layer_features"
   ],
   "id": "c85532136789b832"
  },
  {
   "metadata": {},
   "cell_type": "code",
   "outputs": [],
   "execution_count": null,
   "source": [
    "img_transform = transforms.Compose([transforms.ToTensor(),\n",
    "                                    transforms.Normalize(mean=(0.485, 0.456, 0.406), std=(0.229, 0.224, 0.225))])\n",
    "\n",
    "content_img = get_image('content.jpg', img_transform)\n",
    "style_img = get_image('style.jpg', img_transform)\n",
    "generated_img = content_img.clone()    # or nn.Parameter(torch.FloatTensor(content_img.size()))\n",
    "generated_img.requires_grad = True\n",
    "\n",
    "optimizer = torch.optim.Adam([generated_img], lr=0.003, betas=[0.5, 0.999])\n",
    "encoder = FeatureExtractor().to(device)\n",
    "\n",
    "for p in encoder.parameters():\n",
    "    p.requires_grad = False"
   ],
   "id": "b2d23b436aa8dbd5"
  },
  {
   "metadata": {},
   "cell_type": "code",
   "outputs": [],
   "execution_count": null,
   "source": [
    "content_weight = 1\n",
    "style_weight = 100\n",
    "\n",
    "for epoch in range(500):\n",
    "\n",
    "    content_features = encoder(content_img)\n",
    "    style_features = encoder(style_img)\n",
    "    generated_features = encoder(generated_img)\n",
    "\n",
    "    content_loss = torch.mean((content_features[-1] - generated_features[-1])**2)\n",
    "\n",
    "    style_loss = 0\n",
    "    for gf, sf in zip(generated_features, style_features):\n",
    "        _, c, h, w = gf.size()\n",
    "        gram_gf = get_gram(gf)\n",
    "        gram_sf = get_gram(sf)\n",
    "        style_loss += torch.mean((gram_gf - gram_sf)**2)  / (c * h * w)\n",
    "\n",
    "    loss = content_weight * content_loss + style_weight * style_loss\n",
    "    optimizer.zero_grad()\n",
    "    loss.backward()\n",
    "    optimizer.step()\n",
    "\n",
    "    if epoch % 10 == 0:\n",
    "        print ('Epoch [{}]\\tContent Loss: {:.4f}\\tStyle Loss: {:.4f}'.format(epoch, content_loss.item(), style_loss.item()))"
   ],
   "id": "77a7a08092ba100e"
  },
  {
   "metadata": {},
   "cell_type": "code",
   "outputs": [],
   "execution_count": null,
   "source": [
    "inp = generated_img.detach().cpu().squeeze()\n",
    "inp = denormalize_img(inp)\n",
    "plt.imshow(inp)"
   ],
   "id": "286f2ab4cfaa3041"
  }
 ],
 "metadata": {
  "kernelspec": {
   "display_name": "Python 3",
   "language": "python",
   "name": "python3"
  },
  "language_info": {
   "codemirror_mode": {
    "name": "ipython",
    "version": 2
   },
   "file_extension": ".py",
   "mimetype": "text/x-python",
   "name": "python",
   "nbconvert_exporter": "python",
   "pygments_lexer": "ipython2",
   "version": "2.7.6"
  }
 },
 "nbformat": 4,
 "nbformat_minor": 5
}
