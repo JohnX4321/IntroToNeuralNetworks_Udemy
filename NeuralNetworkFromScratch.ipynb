{
 "cells": [
  {
   "cell_type": "code",
   "execution_count": null,
   "id": "initial_id",
   "metadata": {
    "collapsed": true
   },
   "outputs": [],
   "source": [
    "import numpy as np\n",
    "import matplotlib.pyplot as plt\n",
    "import sklearn.datasets"
   ]
  },
  {
   "metadata": {},
   "cell_type": "code",
   "outputs": [],
   "execution_count": null,
   "source": "X,y = sklearn.datasets.make_moons(200, noise = 0.15)",
   "id": "f617fbed7ebf9062"
  },
  {
   "metadata": {},
   "cell_type": "code",
   "outputs": [],
   "execution_count": null,
   "source": "plt.scatter(X[:,0],X[:,1], c=y)",
   "id": "74b9e1e591d060e8"
  },
  {
   "metadata": {},
   "cell_type": "code",
   "outputs": [],
   "execution_count": null,
   "source": [
    "\n",
    "print(X.shape, y.shape)"
   ],
   "id": "3389f395426499c0"
  },
  {
   "metadata": {},
   "cell_type": "code",
   "outputs": [],
   "execution_count": null,
   "source": [
    "input_neurons = 2\n",
    "output_neurons = 2\n",
    "samples = X.shape[0]\n",
    "learning_rate = 0.001\n",
    "lambda_reg = 0.01"
   ],
   "id": "bc3cc3fde2c95ec8"
  },
  {
   "metadata": {},
   "cell_type": "code",
   "outputs": [],
   "execution_count": null,
   "source": [
    "def retreive(model_dict):\n",
    "    W1 = model_dict['W1']\n",
    "    b1 = model_dict['b1']\n",
    "    W2 = model_dict['W2']\n",
    "    b2 = model_dict['b2']\n",
    "    return W1, b1, W2, b2"
   ],
   "id": "cf2e49c00b82f89d"
  },
  {
   "metadata": {},
   "cell_type": "code",
   "outputs": [],
   "execution_count": null,
   "source": [
    "def forward(x, model_dict):\n",
    "    W1, b1, W2, b2 = retreive(model_dict)\n",
    "    z1 = X.dot(W1) + b1\n",
    "    a1 = np.tanh(z1)\n",
    "    z2 = a1.dot(W2) + b2\n",
    "    exp_scores = np.exp(z2)\n",
    "    softmax = exp_scores / np.sum(exp_scores, axis = 1, keepdims = True)\n",
    "    return z1, a1, softmax"
   ],
   "id": "b8625e7d570e652b"
  },
  {
   "metadata": {},
   "cell_type": "code",
   "outputs": [],
   "execution_count": null,
   "source": [
    "def loss(softmax, y, model_dict):\n",
    "    W1, b1, W2, b2 = retreive(model_dict)\n",
    "    m = np.zeros(200)\n",
    "    for i,correct_index in enumerate(y):\n",
    "        predicted = softmax[i][correct_index]\n",
    "        m[i] = predicted\n",
    "    log_prob = -np.log(m)\n",
    "    loss = np.sum(log_prob)\n",
    "    reg_loss = lambda_reg / 2 * (np.sum(np.square(W1)) + np.sum(np.square(W2)))\n",
    "    loss+= reg_loss\n",
    "    return float(loss / y.shape[0])"
   ],
   "id": "fbc1c6fdd351433d"
  },
  {
   "metadata": {},
   "cell_type": "code",
   "outputs": [],
   "execution_count": null,
   "source": [
    "def predict(model_dict, x):\n",
    "    W1, b1, W2, b2 = retreive(model_dict)\n",
    "    z1 = x.dot(W1) + b1\n",
    "    a1 = np.tanh(z1)\n",
    "    z2 = a1.dot(W2) + b2\n",
    "    exp_scores = np.exp(z2)\n",
    "    softmax = exp_scores / np.sum(exp_scores, axis = 1, keepdims = True)   # (200,2)\n",
    "    return np.argmax(softmax, axis = 1)    # (200,)"
   ],
   "id": "c13398bc9014970f"
  },
  {
   "metadata": {},
   "cell_type": "code",
   "outputs": [],
   "execution_count": null,
   "source": [
    "def backpropagation(x, y, model_dict, epochs):\n",
    "    for i in range(epochs):\n",
    "        W1, b1, W2, b2 = retreive(model_dict)\n",
    "        z1, a1, probs = forward(x, model_dict)    # a1: (200,3), probs: (200,2)\n",
    "        delta3 = np.copy(probs)\n",
    "        delta3[range(x.shape[0]), y] -= 1      # (200,2)\n",
    "        dW2 = (a1.T).dot(delta3)               # (3,2)\n",
    "        db2 = np.sum(delta3, axis=0, keepdims=True)        # (1,2)\n",
    "        delta2 = delta3.dot(W2.T) * (1 - np.power(np.tanh(z1), 2))\n",
    "        dW1 = np.dot(x.T, delta2)\n",
    "        db1 = np.sum(delta2, axis=0)\n",
    "        # Add regularization terms\n",
    "        dW2 += lambda_reg * np.sum(W2)\n",
    "        dW1 += lambda_reg * np.sum(W1)\n",
    "        # Update Weights: W = W + (-lr*gradient) = W - lr*gradient\n",
    "        W1 += -learning_rate * dW1\n",
    "        b1 += -learning_rate * db1\n",
    "        W2 += -learning_rate * dW2\n",
    "        b2 += -learning_rate * db2\n",
    "        # Update the model dictionary\n",
    "        model_dict = {'W1': W1, 'b1': b1, 'W2': W2, 'b2': b2}\n",
    "        # Print the loss every 50 epochs\n",
    "        if i%50 == 0:\n",
    "            print(\"Loss at epoch {} is: {:.3f}\".format(i,loss(probs, y, model_dict)))\n",
    "\n",
    "    return model_dict"
   ],
   "id": "db5c56440422663a"
  },
  {
   "metadata": {},
   "cell_type": "code",
   "outputs": [],
   "execution_count": null,
   "source": [
    "# Define Initial Weights\n",
    "def init_network(input_dim, hidden_dim, output_dim):\n",
    "    model = {}\n",
    "    # Xavier Initialization\n",
    "    W1 = np.random.randn(input_dim, hidden_dim) / np.sqrt(input_dim)\n",
    "    b1 = np.zeros((1, hidden_dim))\n",
    "    W2 = np.random.randn(hidden_dim, output_dim) / np.sqrt(hidden_dim)\n",
    "    b2 = np.zeros((1, output_dim))\n",
    "    model['W1'] = W1\n",
    "    model['b1'] = b1\n",
    "    model['W2'] = W2\n",
    "    model['b2'] = b2\n",
    "    return model"
   ],
   "id": "c20058e5f04a9a91"
  },
  {
   "metadata": {},
   "cell_type": "code",
   "outputs": [],
   "execution_count": null,
   "source": [
    "def plot_decision_boundary(pred_func):\n",
    "    \"\"\"\n",
    "    Code adopted from: https://github.com/dennybritz/nn-from-scratch\n",
    "    \"\"\"\n",
    "    # Set min and max values and give it some padding\n",
    "    x_min, x_max = X[:, 0].min() - .5, X[:, 0].max() + .5\n",
    "    y_min, y_max = X[:, 1].min() - .5, X[:, 1].max() + .5\n",
    "    h = 0.01\n",
    "    # Generate a grid of points with distance h between them\n",
    "    xx, yy = np.meshgrid(np.arange(x_min, x_max, h), np.arange(y_min, y_max, h))\n",
    "    # Predict the function value for the whole gid\n",
    "    Z = pred_func(np.c_[xx.ravel(), yy.ravel()])\n",
    "    Z = Z.reshape(xx.shape)\n",
    "    # Plot the contour and training examples\n",
    "    plt.contourf(xx, yy, Z, cmap=plt.cm.Spectral)\n",
    "    plt.scatter(X[:, 0], X[:, 1], c=y, cmap=plt.cm.Spectral)\n",
    "    plt.title(\"Decision Boundary for hidden layer size 3\")"
   ],
   "id": "2ddc52106ad8c88b"
  },
  {
   "metadata": {},
   "cell_type": "code",
   "outputs": [],
   "execution_count": null,
   "source": [
    "# Now Let's start the action\n",
    "model_dict = init_network(input_dim = input_neurons , hidden_dim = 3, output_dim = output_neurons)\n",
    "model = backpropagation(X, y, model_dict, 1000)\n",
    "plot_decision_boundary(lambda x: predict(model, x))"
   ],
   "id": "4b15388c631353a5"
  }
 ],
 "metadata": {
  "kernelspec": {
   "display_name": "Python 3",
   "language": "python",
   "name": "python3"
  },
  "language_info": {
   "codemirror_mode": {
    "name": "ipython",
    "version": 2
   },
   "file_extension": ".py",
   "mimetype": "text/x-python",
   "name": "python",
   "nbconvert_exporter": "python",
   "pygments_lexer": "ipython2",
   "version": "2.7.6"
  }
 },
 "nbformat": 4,
 "nbformat_minor": 5
}
