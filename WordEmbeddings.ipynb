{
 "cells": [
  {
   "cell_type": "code",
   "execution_count": null,
   "id": "initial_id",
   "metadata": {
    "collapsed": true
   },
   "outputs": [],
   "source": [
    "import torch\n",
    "import torch.nn as nn\n",
    "import torch.nn.functional as F\n",
    "import torch.optim as optim"
   ]
  },
  {
   "metadata": {},
   "cell_type": "code",
   "outputs": [],
   "execution_count": null,
   "source": [
    "#The indices of the words represent the values in the lookup table\n",
    "word_to_idx = {\"I\": 0, \"love\": 1, \"eating\":2, \"and\":3, \"sleeping\":4}\n",
    "embeddings = nn.Embedding(5, 7)    # 5 words in vocab, embedding size is 7\n",
    "word_index = torch.tensor([word_to_idx[\"love\"]])\n",
    "print(word_index)"
   ],
   "id": "316634e6e7a5e945"
  },
  {
   "metadata": {},
   "cell_type": "code",
   "outputs": [],
   "execution_count": null,
   "source": [
    "love = embeddings(word_index)\n",
    "print(love)\n",
    "print(love.shape)"
   ],
   "id": "b56ccca6fbf6f5e2"
  },
  {
   "metadata": {},
   "cell_type": "code",
   "outputs": [],
   "execution_count": null,
   "source": [
    "all_ind = torch.tensor([w for w in range(5)], dtype = torch.long)\n",
    "all_words = embeddings(all_ind)\n",
    "print(all_ind)\n",
    "print(all_words)\n",
    "print(all_words.shape)"
   ],
   "id": "bcfa273606c9913e"
  }
 ],
 "metadata": {
  "kernelspec": {
   "display_name": "Python 3",
   "language": "python",
   "name": "python3"
  },
  "language_info": {
   "codemirror_mode": {
    "name": "ipython",
    "version": 2
   },
   "file_extension": ".py",
   "mimetype": "text/x-python",
   "name": "python",
   "nbconvert_exporter": "python",
   "pygments_lexer": "ipython2",
   "version": "2.7.6"
  }
 },
 "nbformat": 4,
 "nbformat_minor": 5
}
